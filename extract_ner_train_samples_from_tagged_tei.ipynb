{
 "cells": [
  {
   "cell_type": "code",
   "execution_count": 4,
   "metadata": {},
   "outputs": [],
   "source": [
    "import glob\n",
    "from enrich.tei import TeiReader"
   ]
  },
  {
   "cell_type": "code",
   "execution_count": 5,
   "metadata": {},
   "outputs": [],
   "source": [
    "source_dir = r\"C:\\Users\\pandorfer\\Documents\\Redmine\\konde\\thun-project\\thun-data\\editions\\*.xml\""
   ]
  },
  {
   "cell_type": "code",
   "execution_count": 6,
   "metadata": {
    "scrolled": true
   },
   "outputs": [],
   "source": [
    "files = [x for x in glob.iglob(source_dir, recursive=False)]"
   ]
  },
  {
   "cell_type": "code",
   "execution_count": 7,
   "metadata": {},
   "outputs": [
    {
     "name": "stdout",
     "output_type": "stream",
     "text": [
      "start_node: .//tei:div[@type=\"transcript\"] couldn't be found\n",
      "start_node: .//tei:div[@type=\"transcript\"] couldn't be found\n"
     ]
    }
   ],
   "source": [
    "TRAIN_DATA = []\n",
    "for x in files:\n",
    "    try:\n",
    "        tei_doc = TeiReader(x)\n",
    "        ners = tei_doc.extract_ne_offsets('.//tei:div[@type=\"transcript\"]', './/tei:div[@type=\"transcript\"]//tei:rs')\n",
    "        TRAIN_DATA.append(ners)\n",
    "    except:\n",
    "        pass"
   ]
  },
  {
   "cell_type": "code",
   "execution_count": 8,
   "metadata": {},
   "outputs": [
    {
     "data": {
      "text/plain": [
       "22894"
      ]
     },
     "execution_count": 8,
     "metadata": {},
     "output_type": "execute_result"
    }
   ],
   "source": [
    "c = 0\n",
    "for x in TRAIN_DATA:\n",
    "    c = c + len(x[1]['entities'])\n",
    "c"
   ]
  },
  {
   "cell_type": "code",
   "execution_count": null,
   "metadata": {},
   "outputs": [],
   "source": []
  }
 ],
 "metadata": {
  "kernelspec": {
   "display_name": "Django Shell-Plus",
   "language": "python",
   "name": "django_extensions"
  },
  "language_info": {
   "codemirror_mode": {
    "name": "ipython",
    "version": 3
   },
   "file_extension": ".py",
   "mimetype": "text/x-python",
   "name": "python",
   "nbconvert_exporter": "python",
   "pygments_lexer": "ipython3",
   "version": "3.5.4"
  }
 },
 "nbformat": 4,
 "nbformat_minor": 2
}
