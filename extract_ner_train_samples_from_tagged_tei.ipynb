{
 "cells": [
  {
   "cell_type": "code",
   "execution_count": 4,
   "metadata": {},
   "outputs": [],
   "source": [
    "import glob\n",
    "from enrich.tei import teis_to_traindata, teis_to_traindata_sents\n",
    "from enrich.spacy_utils.data_prep import clean_train_data, traindata_to_csv, csv_to_traindata"
   ]
  },
  {
   "cell_type": "code",
   "execution_count": null,
   "metadata": {},
   "outputs": [],
   "source": [
    "# source_dir = r\"C:\\Users\\pandorfer\\Documents\\Redmine\\konde\\schnitzler-tagebuch\\data\\editions\\*.xml\"\n",
    "# source_dir = r\"C:\\Users\\pandorfer\\Documents\\Redmine\\konde\\thun-project\\thun-data\\editions\\*.xml\"\n",
    "# source_dir = r\"C:\\Users\\pandorfer\\Documents\\Redmine\\konde\\Hermann-Bahr_Arthur-Schnitzler\\app\\data\\letters\\**\\*.xml\"\n",
    "# source_dir = r\"C:\\Users\\pandorfer\\Desktop\\data-processing\\Workshop_Graz\\Dipko\\XML_TEI\\*.xml\"\n",
    "source_dir = r\"C:\\Users\\pandorfer\\Documents\\Redmine\\konde\\gesamtakademie\\texts\\*xml\"\n",
    "# source_dir = r\"C:\\Users\\pandorfer\\Documents\\Redmine\\rita_project\\rita2-data\\data\\editions\\*xml\""
   ]
  },
  {
   "cell_type": "code",
   "execution_count": null,
   "metadata": {
    "scrolled": true
   },
   "outputs": [],
   "source": [
    "files = [x for x in glob.iglob(source_dir, recursive=False)]\n",
    "len(files)"
   ]
  },
  {
   "cell_type": "code",
   "execution_count": null,
   "metadata": {},
   "outputs": [],
   "source": [
    "# in case your TEIS use some idiosyncratic tags, provide a proper mapping here\n",
    "CUSTOM_NER_TAG_MAP = {\n",
    "    \"persName\": \"PER\",\n",
    "    \"person\": \"PER\",\n",
    "    \"persRef\": \"PER\",\n",
    "    \"placeName\": \"LOC\",\n",
    "    \"place\": \"LOC\",\n",
    "    \"placeRef\": \"LOC\",\n",
    "    \"orgName\": \"ORG\",\n",
    "    \"org\": \"ORG\",\n",
    "    \"orgRef\": \"ORG\",\n",
    "    \"work\": \"MISC\",\n",
    "    \"workName\": \"MISC\",\n",
    "    \"eventRef\": \"MISC\"\n",
    "}"
   ]
  },
  {
   "cell_type": "code",
   "execution_count": null,
   "metadata": {},
   "outputs": [],
   "source": [
    "# generate train data\n",
    "# TRAIN_DATA = teis_to_traindata(files, ne_xpath='.//tei:body//tei:*[@ref]', verbose=True) #habs\n",
    "TRAIN_DATA = teis_to_traindata(files[3:], parent_node='.//tei:body//tei:p', ne_xpath='.//tei:rs', verbose=True)\n",
    "# TRAIN_DATA = teis_to_traindata(files, parent_node='.//tei:div[@type=\"transcript\"]//tei:p', ne_xpath='.//tei:rs', verbose=False) #thun\n",
    "len(TRAIN_DATA)"
   ]
  },
  {
   "cell_type": "code",
   "execution_count": null,
   "metadata": {},
   "outputs": [],
   "source": [
    "TRAIN_DATA[4]"
   ]
  },
  {
   "cell_type": "code",
   "execution_count": null,
   "metadata": {},
   "outputs": [],
   "source": [
    "# generate train data on sents base\n",
    "# TRAIN_DATA = teis_to_traindata(files, ne_xpath='.//tei:body//tei:*[@key]', verbose=False) #habs\n",
    "# TRAIN_DATA = teis_to_traindata_sents(\n",
    "#     files, parent_node='.//tei:div[@type=\"transcript\"]//tei:p',\n",
    "#     ne_xpath='.//tei:rs', verbose=False,\n",
    "#     model='de_core_news_sm'\n",
    "# ) #thun\n",
    "\n",
    "#dipko\n",
    "# TRAIN_DATA = teis_to_traindata_sents(\n",
    "#     files, parent_node='.//tei:body',\n",
    "#     ne_xpath='.//tei:persRef | .//tei:placeRef | ..//tei:placeName | ..//tei:persName', verbose=True,\n",
    "#     model='de_core_news_sm',\n",
    "#     NER_TAG_MAP=CUSTOM_NER_TAG_MAP\n",
    "# )\n",
    "\n",
    "# rita\n",
    "TRAIN_DATA = teis_to_traindata_sents(\n",
    "    files[3:], parent_node='.//tei:body//tei:p',\n",
    "    ne_xpath='.//tei:rs', verbose=False,\n",
    "    model='de_core_news_sm'\n",
    ") #thun\n",
    "\n",
    "len(TRAIN_DATA)"
   ]
  },
  {
   "cell_type": "code",
   "execution_count": null,
   "metadata": {},
   "outputs": [],
   "source": [
    "out = traindata_to_csv(TRAIN_DATA, 'data/gesamtakademie_p_sents_all.csv')"
   ]
  },
  {
   "cell_type": "code",
   "execution_count": null,
   "metadata": {},
   "outputs": [],
   "source": [
    "# clean train data (removing 'empty samples' and samples with less then 4 entities)\n",
    "# CLEAN_TRAIN_DATA = clean_train_data(CLEAN_TRAIN_DATA, min_ents=1, min_text_len=10, lang=[])\n",
    "# len(CLEAN_TRAIN_DATA)"
   ]
  },
  {
   "cell_type": "code",
   "execution_count": null,
   "metadata": {},
   "outputs": [],
   "source": [
    "# save cleaned train data as csv\n",
    "# out = traindata_to_csv(CLEAN_TRAIN_DATA, 'data/thun_sents_filtered.csv')"
   ]
  },
  {
   "cell_type": "code",
   "execution_count": null,
   "metadata": {},
   "outputs": [],
   "source": [
    "# load saved train data as TRAIN_DATA list of lists\n",
    "loaded_train_data = csv_to_traindata(out)"
   ]
  },
  {
   "cell_type": "code",
   "execution_count": null,
   "metadata": {},
   "outputs": [],
   "source": [
    "##### compare models"
   ]
  },
  {
   "cell_type": "code",
   "execution_count": 2,
   "metadata": {},
   "outputs": [],
   "source": [
    "from enrich.spacy_utils.train import compare_models"
   ]
  },
  {
   "cell_type": "code",
   "execution_count": 5,
   "metadata": {},
   "outputs": [],
   "source": [
    "data = csv_to_traindata('data/gesamtakademie_p_sents_all.csv')\n",
    "# data = TRAIN_DATA"
   ]
  },
  {
   "cell_type": "code",
   "execution_count": 6,
   "metadata": {},
   "outputs": [
    {
     "data": {
      "text/plain": [
       "7961"
      ]
     },
     "execution_count": 6,
     "metadata": {},
     "output_type": "execute_result"
    }
   ],
   "source": [
    "len(data)"
   ]
  },
  {
   "cell_type": "code",
   "execution_count": 7,
   "metadata": {},
   "outputs": [],
   "source": [
    "examples = data[6000:len(data)]"
   ]
  },
  {
   "cell_type": "code",
   "execution_count": 8,
   "metadata": {},
   "outputs": [],
   "source": [
    "models = [\n",
    "    'data/gesamtakademie_5500_35',\n",
    "    'data/gesamtakademie_blank_5500_15',\n",
    "    'data/gesamtakademie_blank_5500_35',\n",
    "    'data/gesamtakademie_custom_v_5500_10',\n",
    "    'data/gesamtakademie_custom_v_5500_35'\n",
    "]"
   ]
  },
  {
   "cell_type": "code",
   "execution_count": 9,
   "metadata": {},
   "outputs": [
    {
     "name": "stdout",
     "output_type": "stream",
     "text": [
      "data/gesamtakademie_5500_35 p: 38.34196891191709; f: 47.66505636070853; r: 62.97872340425532\n",
      "data/gesamtakademie_blank_5500_15 p: 39.77746870653686; f: 48.107653490328005; r: 60.851063829787236\n",
      "data/gesamtakademie_blank_5500_35 p: 41.00946372239748; f: 47.10144927536232; r: 55.319148936170215\n",
      "data/gesamtakademie_custom_v_5500_10 p: 39.20817369093231; f: 49.002394253790904; r: 65.31914893617021\n",
      "data/gesamtakademie_custom_v_5500_35 p: 37.301587301587304; f: 46.00326264274062; r: 60.0\n"
     ]
    }
   ],
   "source": [
    "compare_models(models, examples)"
   ]
  },
  {
   "cell_type": "code",
   "execution_count": null,
   "metadata": {},
   "outputs": [],
   "source": []
  }
 ],
 "metadata": {
  "kernelspec": {
   "display_name": "Django Shell-Plus",
   "language": "python",
   "name": "django_extensions"
  },
  "language_info": {
   "codemirror_mode": {
    "name": "ipython",
    "version": 3
   },
   "file_extension": ".py",
   "mimetype": "text/x-python",
   "name": "python",
   "nbconvert_exporter": "python",
   "pygments_lexer": "ipython3",
   "version": "3.5.4"
  }
 },
 "nbformat": 4,
 "nbformat_minor": 2
}
