{
 "cells": [
  {
   "cell_type": "code",
   "execution_count": 22,
   "metadata": {},
   "outputs": [],
   "source": [
    "import glob\n",
    "from enrich.tei import teis_to_traindata, teis_to_traindata_sents\n",
    "from enrich.spacy_utils.data_prep import clean_train_data, traindata_to_csv, csv_to_traindata"
   ]
  },
  {
   "cell_type": "code",
   "execution_count": null,
   "metadata": {},
   "outputs": [],
   "source": [
    "# source_dir = r\"C:\\Users\\pandorfer\\Documents\\Redmine\\konde\\schnitzler-tagebuch\\data\\editions\\*.xml\"\n",
    "source_dir = r\"C:\\Users\\pandorfer\\Documents\\Redmine\\konde\\thun-project\\thun-data\\editions\\*.xml\"\n",
    "# source_dir = r\"C:\\Users\\pandorfer\\Documents\\Redmine\\konde\\Hermann-Bahr_Arthur-Schnitzler\\app\\data\\letters\\**\\*.xml\""
   ]
  },
  {
   "cell_type": "code",
   "execution_count": null,
   "metadata": {
    "scrolled": true
   },
   "outputs": [],
   "source": [
    "files = [x for x in glob.iglob(source_dir, recursive=False)]\n",
    "len(files)"
   ]
  },
  {
   "cell_type": "code",
   "execution_count": null,
   "metadata": {},
   "outputs": [],
   "source": [
    "# generate train data\n",
    "# TRAIN_DATA = teis_to_traindata(files, ne_xpath='.//tei:body//tei:*[@key]', verbose=False) #habs\n",
    "TRAIN_DATA = teis_to_traindata(files, parent_node='.//tei:div[@type=\"transcript\"]//tei:p', ne_xpath='.//tei:rs', verbose=False) #thun\n",
    "len(TRAIN_DATA)"
   ]
  },
  {
   "cell_type": "code",
   "execution_count": null,
   "metadata": {},
   "outputs": [],
   "source": [
    "# generate train data on sents base\n",
    "# TRAIN_DATA = teis_to_traindata(files, ne_xpath='.//tei:body//tei:*[@key]', verbose=False) #habs\n",
    "TRAIN_DATA = teis_to_traindata_sents(\n",
    "    files, parent_node='.//tei:div[@type=\"transcript\"]//tei:p',\n",
    "    ne_xpath='.//tei:rs', verbose=False,\n",
    "    model='de_core_news_sm'\n",
    ") #thun\n",
    "len(TRAIN_DATA)"
   ]
  },
  {
   "cell_type": "code",
   "execution_count": null,
   "metadata": {},
   "outputs": [],
   "source": [
    "out = traindata_to_csv(TRAIN_DATA, 'data/thun_sents_all.csv')"
   ]
  },
  {
   "cell_type": "code",
   "execution_count": null,
   "metadata": {},
   "outputs": [],
   "source": [
    "# clean train data (removing 'empty samples' and samples with less then 4 entities)\n",
    "CLEAN_TRAIN_DATA = clean_train_data(CLEAN_TRAIN_DATA, min_ents=1, min_text_len=10, lang=[])\n",
    "len(CLEAN_TRAIN_DATA)"
   ]
  },
  {
   "cell_type": "code",
   "execution_count": null,
   "metadata": {},
   "outputs": [],
   "source": [
    "# save cleaned train data as csv\n",
    "out = traindata_to_csv(CLEAN_TRAIN_DATA, 'data/thun_sents_filtered.csv')"
   ]
  },
  {
   "cell_type": "code",
   "execution_count": null,
   "metadata": {},
   "outputs": [],
   "source": [
    "# load saved train data as TRAIN_DATA list of lists\n",
    "loaded_train_data = csv_to_traindata(out)"
   ]
  },
  {
   "cell_type": "code",
   "execution_count": null,
   "metadata": {},
   "outputs": [],
   "source": [
    "##### compare models"
   ]
  },
  {
   "cell_type": "code",
   "execution_count": 1,
   "metadata": {},
   "outputs": [],
   "source": [
    "import spacy"
   ]
  },
  {
   "cell_type": "code",
   "execution_count": 24,
   "metadata": {},
   "outputs": [],
   "source": [
    "data = csv_to_traindata('data/vfbr.csv')"
   ]
  },
  {
   "cell_type": "code",
   "execution_count": 25,
   "metadata": {},
   "outputs": [
    {
     "data": {
      "text/plain": [
       "106"
      ]
     },
     "execution_count": 25,
     "metadata": {},
     "output_type": "execute_result"
    }
   ],
   "source": [
    "len(data)"
   ]
  },
  {
   "cell_type": "code",
   "execution_count": 26,
   "metadata": {},
   "outputs": [],
   "source": [
    "import spacy\n",
    "from spacy.gold import GoldParse\n",
    "from spacy.scorer import Scorer\n",
    "\n",
    "def evaluate(ner_model, examples):\n",
    "    scorer = Scorer()\n",
    "    for x in examples:\n",
    "        doc_gold_text = ner_model.make_doc(x[0])\n",
    "        gold = GoldParse(doc_gold_text, entities=x[1]['entities'])\n",
    "        pred_value = ner_model(x[0])\n",
    "        scorer.score(pred_value, gold)\n",
    "    return scorer.scores"
   ]
  },
  {
   "cell_type": "code",
   "execution_count": 27,
   "metadata": {},
   "outputs": [],
   "source": [
    "examples = data[60:len(data)]"
   ]
  },
  {
   "cell_type": "code",
   "execution_count": 28,
   "metadata": {},
   "outputs": [],
   "source": [
    "models = [\n",
    "    'de_core_news_sm',\n",
    "    'data/vfbr_60_100',\n",
    "    'data/vfbr_newlabel_blank_60_100'\n",
    "]"
   ]
  },
  {
   "cell_type": "code",
   "execution_count": 29,
   "metadata": {},
   "outputs": [
    {
     "name": "stdout",
     "output_type": "stream",
     "text": [
      "de_core_news_sm p: 0.0; f: 0.0; r: 0.0\n",
      "data/vfbr_60_100 p: 0.0; f: 0.0; r: 0.0\n",
      "data/vfbr_newlabel_blank_60_100 p: 66.66666666666666; f: 65.97938144329896; r: 65.3061224489796\n"
     ]
    }
   ],
   "source": [
    "for x in models:\n",
    "    ner_model = spacy.load(x)\n",
    "    results = evaluate(ner_model, examples)\n",
    "    print(x, \"p: {}; f: {}; r: {}\".format(results['ents_p'], results['ents_f'], results['ents_r']))"
   ]
  },
  {
   "cell_type": "code",
   "execution_count": 30,
   "metadata": {},
   "outputs": [
    {
     "data": {
      "text/plain": [
       "['Schuldenübergabe nach dem Tod des Joseph Pruner [Prunner/Brunner] (Antholz) an Peter Pruner betreffs der Schulden gegenüber dem Ehepaar Georg Miller [Müller] (Inhaber des Pruner-Gutes, Antholz-Oberthal)',\n",
       " {'entities': [[34, 75, 'OBJECT'], [79, 91, 'OBJECT'], [136, 202, 'OBJECT']]}]"
      ]
     },
     "execution_count": 30,
     "metadata": {},
     "output_type": "execute_result"
    }
   ],
   "source": [
    "examples[1]"
   ]
  },
  {
   "cell_type": "code",
   "execution_count": 2,
   "metadata": {},
   "outputs": [],
   "source": [
    "text = \"Schuldenübergabe nach dem Tod des Joseph Pruner [Prunner/Brunner] (Antholz) an Peter Pruner betreffs der Schulden gegenüber dem Ehepaar Georg Miller [Müller] (Inhaber des Pruner-Gutes, Antholz-Oberthal)\""
   ]
  },
  {
   "cell_type": "code",
   "execution_count": 3,
   "metadata": {},
   "outputs": [
    {
     "data": {
      "text/plain": [
       "'Schuldenübergabe nach dem Tod des Joseph Pruner [Prunner/Brunner] (Antholz) an Peter Pruner betreffs der Schulden gegenüber dem Ehepaar Georg Miller [Müller] (Inhaber des Pruner-Gutes, Antholz-Oberthal)'"
      ]
     },
     "execution_count": 3,
     "metadata": {},
     "output_type": "execute_result"
    }
   ],
   "source": [
    "text"
   ]
  },
  {
   "cell_type": "code",
   "execution_count": 4,
   "metadata": {},
   "outputs": [],
   "source": [
    "ner_model = spacy.load('data/vfbr_newlabel_blank_60_100')"
   ]
  },
  {
   "cell_type": "code",
   "execution_count": 8,
   "metadata": {},
   "outputs": [],
   "source": [
    "hansi = ner_model(text)"
   ]
  },
  {
   "cell_type": "code",
   "execution_count": 10,
   "metadata": {},
   "outputs": [
    {
     "name": "stdout",
     "output_type": "stream",
     "text": [
      "Joseph Pruner [Prunner/Brunner] (Antholz) OBJECT\n",
      "Peter Pruner betreffs der OBJECT\n",
      "Ehepaar Georg Miller [Müller] (Inhaber des Pruner-Gutes, Antholz-Oberthal) OBJECT\n"
     ]
    }
   ],
   "source": [
    "for ent in hansi.ents:\n",
    "    print(ent, ent.label_)"
   ]
  },
  {
   "cell_type": "code",
   "execution_count": null,
   "metadata": {},
   "outputs": [],
   "source": []
  }
 ],
 "metadata": {
  "kernelspec": {
   "display_name": "Django Shell-Plus",
   "language": "python",
   "name": "django_extensions"
  },
  "language_info": {
   "codemirror_mode": {
    "name": "ipython",
    "version": 3
   },
   "file_extension": ".py",
   "mimetype": "text/x-python",
   "name": "python",
   "nbconvert_exporter": "python",
   "pygments_lexer": "ipython3",
   "version": "3.5.4"
  }
 },
 "nbformat": 4,
 "nbformat_minor": 2
}
