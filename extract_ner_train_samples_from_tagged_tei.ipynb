{
 "cells": [
  {
   "cell_type": "code",
   "execution_count": null,
   "metadata": {},
   "outputs": [],
   "source": [
    "import glob\n",
    "from enrich.tei import teis_to_traindata\n",
    "from enrich.spacy_utils.data_prep import clean_train_data, traindata_to_csv, csv_to_traindata"
   ]
  },
  {
   "cell_type": "code",
   "execution_count": null,
   "metadata": {},
   "outputs": [],
   "source": [
    "# source_dir = r\"C:\\Users\\pandorfer\\Documents\\Redmine\\konde\\schnitzler-tagebuch\\data\\editions\\*.xml\"\n",
    "# source_dir = r\"C:\\Users\\pandorfer\\Documents\\Redmine\\konde\\thun-project\\thun-data\\editions\\*.xml\"\n",
    "source_dir = r\"C:\\Users\\pandorfer\\Documents\\Redmine\\konde\\Hermann-Bahr_Arthur-Schnitzler\\app\\data\\letters\\**\\*.xml\""
   ]
  },
  {
   "cell_type": "code",
   "execution_count": null,
   "metadata": {
    "scrolled": true
   },
   "outputs": [],
   "source": [
    "files = [x for x in glob.iglob(source_dir, recursive=False)]\n",
    "len(files)"
   ]
  },
  {
   "cell_type": "code",
   "execution_count": null,
   "metadata": {},
   "outputs": [],
   "source": [
    "# generate train data\n",
    "TRAIN_DATA = teis_to_traindata(files, ne_xpath='.//tei:body//tei:*[@key]', verbose=False) #habs\n",
    "# TRAIN_DATA = teis_to_traindata(files, start_node='.//tei:div[@type=\"transcript\"]', verbose=False) #thun\n",
    "len(TRAIN_DATA)"
   ]
  },
  {
   "cell_type": "code",
   "execution_count": null,
   "metadata": {},
   "outputs": [],
   "source": [
    "# clean train data (removing 'empty samples' and samples with less then 4 entities)\n",
    "CLEAN_TRAIN_DATA = clean_train_data(TRAIN_DATA, 2)\n",
    "len(CLEAN_TRAIN_DATA)"
   ]
  },
  {
   "cell_type": "code",
   "execution_count": null,
   "metadata": {},
   "outputs": [],
   "source": [
    "# save cleaned train data as csv\n",
    "out = traindata_to_csv(CLEAN_TRAIN_DATA, 'data/hbas.csv')"
   ]
  },
  {
   "cell_type": "code",
   "execution_count": null,
   "metadata": {},
   "outputs": [],
   "source": [
    "# load saved train data as TRAIN_DATA list of lists\n",
    "loaded_train_data = csv_to_traindata(out)"
   ]
  },
  {
   "cell_type": "code",
   "execution_count": null,
   "metadata": {},
   "outputs": [],
   "source": [
    "##### compare models"
   ]
  },
  {
   "cell_type": "code",
   "execution_count": null,
   "metadata": {},
   "outputs": [],
   "source": [
    "import spacy"
   ]
  },
  {
   "cell_type": "code",
   "execution_count": null,
   "metadata": {},
   "outputs": [],
   "source": [
    "data = csv_to_traindata('data/hbas.csv')"
   ]
  },
  {
   "cell_type": "code",
   "execution_count": null,
   "metadata": {},
   "outputs": [],
   "source": [
    "len(data)"
   ]
  },
  {
   "cell_type": "code",
   "execution_count": null,
   "metadata": {},
   "outputs": [],
   "source": [
    "import spacy\n",
    "from spacy.gold import GoldParse\n",
    "from spacy.scorer import Scorer\n",
    "\n",
    "def evaluate(ner_model, examples):\n",
    "    scorer = Scorer()\n",
    "    for x in examples:\n",
    "        doc_gold_text = ner_model.make_doc(x[0])\n",
    "        gold = GoldParse(doc_gold_text, entities=x[1]['entities'])\n",
    "        pred_value = ner_model(x[0])\n",
    "        scorer.score(pred_value, gold)\n",
    "    return scorer.scores"
   ]
  },
  {
   "cell_type": "code",
   "execution_count": null,
   "metadata": {},
   "outputs": [],
   "source": [
    "examples = data[800:len(data)]"
   ]
  },
  {
   "cell_type": "code",
   "execution_count": null,
   "metadata": {},
   "outputs": [],
   "source": [
    "for x in ['de_core_news_sm', 'data/thun', 'data/stb', 'data/hbas', 'data/hbas_new', 'data/hbas_new_100']:\n",
    "    ner_model = spacy.load(x)\n",
    "    results = evaluate(ner_model, examples)\n",
    "    print(x, \"p: {}; f: {}; r: {}\".format(results['ents_p'], results['ents_f'], results['ents_r']))"
   ]
  },
  {
   "cell_type": "code",
   "execution_count": null,
   "metadata": {},
   "outputs": [],
   "source": []
  }
 ],
 "metadata": {
  "kernelspec": {
   "display_name": "Django Shell-Plus",
   "language": "python",
   "name": "django_extensions"
  },
  "language_info": {
   "codemirror_mode": {
    "name": "ipython",
    "version": 3
   },
   "file_extension": ".py",
   "mimetype": "text/x-python",
   "name": "python",
   "nbconvert_exporter": "python",
   "pygments_lexer": "ipython3",
   "version": "3.5.4"
  }
 },
 "nbformat": 4,
 "nbformat_minor": 2
}
